{
 "cells": [
  {
   "cell_type": "code",
   "execution_count": 78,
   "metadata": {},
   "outputs": [
    {
     "name": "stdout",
     "output_type": "stream",
     "text": [
      "=-=-=-=-=-=-=-=-=-=-=-=-=-=-=-=-=-=-=-=-=-=-=-=-=-=-=-=-=-=-=-=-=-=-=-=-=-=-=-=-=-=\n",
      "Python version: 3.7.0 (default, Jun 28 2018, 08:04:48) [MSC v.1912 64 bit (AMD64)]\n",
      "Numpy version: 1.16.3\n",
      "Scikit-Aero version: 0.1\n",
      "=-=-=-=-=-=-=-=-=-=-=-=-=-=-=-=-=-=-=-=-=-=-=-=-=-=-=-=-=-=-=-=-=-=-=-=-=-=-=-=-=-=\n"
     ]
    }
   ],
   "source": [
    "import sys\n",
    "import os\n",
    "import numpy as np\n",
    "import skaero\n",
    "from skaero.atmosphere import coesa\n",
    "\n",
    "print('=-=-=-=-=-=-=-=-=-=-=-=-=-=-=-=-=-=-=-=-=-=-=-=-=-=-=-=-=-=-=-=-=-=-=-=-=-=-=-=-=-=')\n",
    "print('Python version: ' + sys.version)\n",
    "print('Numpy version: ' + np.version.version)\n",
    "print('Scikit-Aero version: ' + skaero.__version__)\n",
    "print('=-=-=-=-=-=-=-=-=-=-=-=-=-=-=-=-=-=-=-=-=-=-=-=-=-=-=-=-=-=-=-=-=-=-=-=-=-=-=-=-=-=')"
   ]
  },
  {
   "cell_type": "code",
   "execution_count": 12,
   "metadata": {},
   "outputs": [
    {
     "name": "stdout",
     "output_type": "stream",
     "text": [
      "At 1000 m, the temperature is 281.65 K, the ambient pressure is 89874.57 Pa, and the density is 1.11 kg/m3.\n"
     ]
    }
   ],
   "source": [
    "h, T, p, rho = coesa.table(1000)\n",
    "\n",
    "print('At {} m, the temperature is {} K, the ambient pressure is {:.2f} Pa, and the density is {:.3} kg/m3.'.format(h, T, p, rho))"
   ]
  },
  {
   "cell_type": "code",
   "execution_count": 38,
   "metadata": {},
   "outputs": [],
   "source": [
    "# Dynamic Pressure on an object\n",
    "\n",
    "# Velocity, in m/s\n",
    "u = 50\n",
    "\n",
    "# Altitude, in m\n",
    "h = 1000\n",
    "\n",
    "# Density and Temperature calculated based on the US Standard Atmosphere\n",
    "h, T, p, rho = coesa.table(h)\n",
    "\n",
    "# Dynamic Pressure, in Pa (N*m^-2)\n",
    "q = 0.5*rho*u**2"
   ]
  },
  {
   "cell_type": "code",
   "execution_count": 39,
   "metadata": {},
   "outputs": [
    {
     "name": "stdout",
     "output_type": "stream",
     "text": [
      "[1.22382355 1.21328194 1.11164181 0.41270625]\n",
      "At 10m, dynamic pressure is 1.53E+03Pa.\n",
      "At 100m, dynamic pressure is 1.52E+03Pa.\n",
      "At 1000m, dynamic pressure is 1.39E+03Pa.\n",
      "At 10000m, dynamic pressure is 5.16E+02Pa.\n"
     ]
    }
   ],
   "source": [
    "h = np.array([10, 100, 1000, 10000])\n",
    "\n",
    "h, T, p, rho = coesa.table(h)\n",
    "print(rho)\n",
    "\n",
    "q = 0.5*rho*u**2\n",
    "\n",
    "for alt,den in zip(h,q):\n",
    "    print('At {:.0f}m, dynamic pressure is {:.2E}Pa.'.format(alt, den))"
   ]
  },
  {
   "cell_type": "markdown",
   "metadata": {},
   "source": [
    "---\n",
    "\n",
    "### Loads Functions\n",
    "\n",
    "Using the basic principles above to extract dynamic pressures, load cards can be written for specific Nastran elements."
   ]
  },
  {
   "cell_type": "code",
   "execution_count": 75,
   "metadata": {},
   "outputs": [],
   "source": [
    "def getEID(cardType, file):\n",
    "    '''\n",
    "    This function reads a Nastran fem file, and returns a list of all element ids, for the selected type.\n",
    "    The cardType must be a string of the appropriate Nastran element type (eg. 'cquad4', 'CTRIA6').\n",
    "    Case does not matter.\n",
    "    The function assumes (and only works with) short-field format for Nastran.\n",
    "    Output is a list of EID's (integers).\n",
    "    '''\n",
    "    # Open the source file\n",
    "    f = open(file, 'r')\n",
    "    # Initate the output\n",
    "    EID = []\n",
    "    \n",
    "    # Read the lines into a list\n",
    "    lines = f.readlines()\n",
    "    \n",
    "    # Loop over each line\n",
    "    for L in lines:\n",
    "        # If the first Nastran field is the card we want:\n",
    "        if L[:8].upper() == cardType.upper().ljust(8):\n",
    "            # append the text in the ID field as an integer to the output\n",
    "            EID.append(int(L[8:16].rstrip()))\n",
    "            \n",
    "    return EID\n",
    "\n",
    "\n",
    "def makePressures(S, q, EID, x, y, z, filename='loads.out'):\n",
    "    '''\n",
    "    This function writes out applied pressures to Nastran elements. The specific bulk card used is a PLOAD4.\n",
    "    The global coordinate system is used, and the orientation vector can be defined.\n",
    "    The pressure is applied as a constant over each entire element (no gradient over a single element).\n",
    "    The function assumes (and only works with) short-field format for Nastran.\n",
    "    Input is the set ID, a dynamic pressure, list of element ids, orientation vector components,\n",
    "    and an output filename (defaulted to 'loads.out').\n",
    "    Output is a text file with all the PLOAD4 cards.\n",
    "    \n",
    "    Returns nothing, file is written.\n",
    "    '''\n",
    "    # Create the output file\n",
    "    f = open(filename, 'w+')\n",
    "    # Loop over element id\n",
    "    for e in EID:\n",
    "        # Write both lines of the PLOAD card.\n",
    "        # See MSC Nastran quick-reference guide on PLOAD4 card for details on fields\n",
    "        f.write('PLOAD4  {:<8d}{:<8d}{:<8.3E}\\n                {:<8d}{:<8d}{:<8d}\\n'.format(S,e,q,x,y,z) )\n",
    "        \n",
    "\n"
   ]
  },
  {
   "cell_type": "code",
   "execution_count": null,
   "metadata": {},
   "outputs": [],
   "source": []
  }
 ],
 "metadata": {
  "kernelspec": {
   "display_name": "Python 3",
   "language": "python",
   "name": "python3"
  },
  "language_info": {
   "codemirror_mode": {
    "name": "ipython",
    "version": 3
   },
   "file_extension": ".py",
   "mimetype": "text/x-python",
   "name": "python",
   "nbconvert_exporter": "python",
   "pygments_lexer": "ipython3",
   "version": "3.7.0"
  }
 },
 "nbformat": 4,
 "nbformat_minor": 2
}
